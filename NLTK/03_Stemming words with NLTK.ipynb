{
 "cells": [
  {
   "cell_type": "markdown",
   "id": "e87e9f8e-6cba-494b-90e2-249599b333f0",
   "metadata": {},
   "source": [
    "## Stemming words with NLTK\n",
    "\n",
    "The idea of stemming is a sort of normalizing method. Many variations of words carry the same meaning, other than when tense is involved.\n",
    "\n",
    "One of the most popular stemming algorithms is the **Porter stemmer**, which has been around since 1979."
   ]
  },
  {
   "cell_type": "code",
   "execution_count": 1,
   "id": "0c5d5c79-444e-4537-93b9-188746cfb008",
   "metadata": {},
   "outputs": [],
   "source": [
    "# grab and define our stemmer\n",
    "from nltk.stem import PorterStemmer\n",
    "from nltk.tokenize import sent_tokenize, word_tokenize\n",
    "\n",
    "ps = PorterStemmer()"
   ]
  },
  {
   "cell_type": "code",
   "execution_count": 4,
   "id": "3c87401a-9f17-42f9-bf28-bad6adb32510",
   "metadata": {},
   "outputs": [
    {
     "name": "stdout",
     "output_type": "stream",
     "text": [
      "python steamed to ->  python\n",
      "pythoner steamed to ->  python\n",
      "pythoning steamed to ->  python\n",
      "pythoned steamed to ->  python\n",
      "pythonly steamed to ->  pythonli\n"
     ]
    }
   ],
   "source": [
    "# let's choose some words with a similar stem, like\n",
    "example_words = [\"python\",\"pythoner\",\"pythoning\",\"pythoned\",\"pythonly\"]\n",
    "\n",
    "for w in example_words:\n",
    "    print(w, \"steamed to -> \", ps.stem(w))"
   ]
  },
  {
   "cell_type": "code",
   "execution_count": 7,
   "id": "0ad221c6-81c0-4d05-87ae-cac0f4ce89f5",
   "metadata": {},
   "outputs": [
    {
     "name": "stdout",
     "output_type": "stream",
     "text": [
      "It  --->  it\n",
      "is  --->  is\n",
      "important  --->  import\n",
      "to  --->  to\n",
      "by  --->  by\n",
      "very  --->  veri\n",
      "pythonly  --->  pythonli\n",
      "while  --->  while\n",
      "you  --->  you\n",
      "are  --->  are\n",
      "pythoning  --->  python\n",
      "with  --->  with\n",
      "python  --->  python\n",
      ".  --->  .\n",
      "All  --->  all\n",
      "pythoners  --->  python\n",
      "have  --->  have\n",
      "pythoned  --->  python\n",
      "poorly  --->  poorli\n",
      "at  --->  at\n",
      "least  --->  least\n",
      "once  --->  onc\n",
      ".  --->  .\n"
     ]
    }
   ],
   "source": [
    "new_text = \"It is important to by very pythonly while you are pythoning with python. All pythoners have pythoned poorly at least once.\"\n",
    "words = word_tokenize(new_text)\n",
    "\n",
    "for w in words:\n",
    "    print(w, \" ---> \", ps.stem(w))\n"
   ]
  },
  {
   "cell_type": "code",
   "execution_count": null,
   "id": "fa92ac3f-de11-4d20-a816-72830d2caef0",
   "metadata": {},
   "outputs": [],
   "source": []
  }
 ],
 "metadata": {
  "kernelspec": {
   "display_name": "dl_pytorch_p39",
   "language": "python",
   "name": "dl_pytorch_p39"
  },
  "language_info": {
   "codemirror_mode": {
    "name": "ipython",
    "version": 3
   },
   "file_extension": ".py",
   "mimetype": "text/x-python",
   "name": "python",
   "nbconvert_exporter": "python",
   "pygments_lexer": "ipython3",
   "version": "3.9.4"
  }
 },
 "nbformat": 4,
 "nbformat_minor": 5
}
