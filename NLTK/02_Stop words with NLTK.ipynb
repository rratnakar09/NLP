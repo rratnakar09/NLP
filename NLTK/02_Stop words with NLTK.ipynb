{
 "cells": [
  {
   "cell_type": "markdown",
   "id": "d905f1e2-6634-4006-adf4-45663ce2c5f0",
   "metadata": {},
   "source": [
    "## Stop words with NLTK"
   ]
  },
  {
   "cell_type": "code",
   "execution_count": 3,
   "id": "ab9e0e41-2682-4c56-9407-acacad5ee941",
   "metadata": {},
   "outputs": [],
   "source": [
    "# In natural language processing, useless words (data), are referred to as stop words.\n",
    "# ex: the, is, am, are, a, an etc. \n",
    "# stop words as words that just contain no meaning, and we want to remove them."
   ]
  },
  {
   "cell_type": "code",
   "execution_count": 6,
   "id": "174225a4-9192-461c-a4af-f565a1b79aee",
   "metadata": {},
   "outputs": [
    {
     "name": "stdout",
     "output_type": "stream",
     "text": [
      "{'which', 'didn', 'before', 'very', 'her', 'isn', 'why', 'should', 'because', 'only', 'm', 'ma', 'they', 'he', 'don', 'once', \"wouldn't\", 'out', 'off', \"won't\", 'doesn', 'by', \"hadn't\", 'has', \"that'll\", 'as', 'she', 'in', 'yours', 'of', 'where', 'mightn', 'against', 've', 'was', \"you're\", 'until', 'into', 'from', 'than', 'their', 'be', 'it', 'and', 'above', 'ours', 'nor', \"wasn't\", 'how', 'up', 'y', 'during', 'doing', 'me', 'my', 'will', \"she's\", 'wouldn', 're', 'themselves', \"weren't\", 'him', 'not', 'haven', 'we', \"it's\", 'the', 'whom', \"mightn't\", \"you'd\", 'll', 'are', \"hasn't\", 'an', 'at', 'yourselves', 'but', 'shan', 'those', \"don't\", 'shouldn', 'few', 'more', 'these', 'other', 'over', 'while', 'do', \"you'll\", \"didn't\", 'won', 'have', 'such', 'both', 'hasn', 'all', 'am', 'too', 'theirs', 'that', 'his', 'to', 'on', 'for', \"shan't\", 'hadn', 'your', 'most', 'needn', 'mustn', 'if', \"isn't\", 'wasn', 'couldn', 'aren', 'ain', 'after', 'being', \"should've\", 'below', 'you', 'were', 'just', 'no', 'weren', 'o', 'them', \"doesn't\", 'between', \"aren't\", 'or', 'then', 'did', 'here', 'itself', 'when', 'with', 'is', 'who', 's', 'any', \"couldn't\", 'now', 'about', 'down', 'again', 'our', 'each', 'own', 'its', 'what', 'hers', 'herself', \"shouldn't\", 'through', 'so', \"haven't\", 'under', \"you've\", 't', \"mustn't\", 'can', 'ourselves', 'a', 'yourself', 'been', \"needn't\", 'does', 'myself', 'had', 'there', 'this', 'i', 'further', 'same', 'd', 'having', 'himself', 'some'}\n"
     ]
    }
   ],
   "source": [
    "from nltk.corpus import stopwords\n",
    "\n",
    "print(set(stopwords.words('english')))"
   ]
  },
  {
   "cell_type": "code",
   "execution_count": 7,
   "id": "06445c83-701e-4092-b48b-9424466a42fa",
   "metadata": {},
   "outputs": [
    {
     "data": {
      "text/plain": [
       "179"
      ]
     },
     "execution_count": 7,
     "metadata": {},
     "output_type": "execute_result"
    }
   ],
   "source": [
    "len(set(stopwords.words('english')))"
   ]
  },
  {
   "cell_type": "markdown",
   "id": "1ae86f8c-09b5-4ab9-88e1-66a1b78d2071",
   "metadata": {},
   "source": [
    "### Let's try with an example to remove the stop words from a sentence"
   ]
  },
  {
   "cell_type": "code",
   "execution_count": 11,
   "id": "b11e6633-c92e-4008-bd72-647b91665595",
   "metadata": {},
   "outputs": [
    {
     "name": "stdout",
     "output_type": "stream",
     "text": [
      "['This', 'is', 'a', 'sample', 'sentence', ',', 'showing', 'off', 'the', 'stop', 'words', 'filtration', '.']\n",
      "['This', 'sample', 'sentence', ',', 'showing', 'stop', 'words', 'filtration', '.']\n"
     ]
    }
   ],
   "source": [
    "from nltk.corpus import stopwords\n",
    "from nltk.tokenize import word_tokenize\n",
    "\n",
    "example_sent = \"This is a sample sentence, showing off the stop words filtration.\"\n",
    "\n",
    "stop_words = set(stopwords.words('english'))\n",
    "\n",
    "word_tokens = word_tokenize(example_sent)\n",
    "print(word_tokens)\n",
    "\n",
    "filtered_sentence = [w for w in word_tokens if not w in stop_words]\n",
    "print(filtered_sentence)\n"
   ]
  },
  {
   "cell_type": "code",
   "execution_count": 12,
   "id": "82b7c039-3754-47cf-b417-ba3dbda5df57",
   "metadata": {},
   "outputs": [
    {
     "name": "stdout",
     "output_type": "stream",
     "text": [
      "['This', 'is', 'a', 'sample', 'sentence', ',', 'showing', 'off', 'the', 'stop', 'words', 'filtration', '.']\n",
      "['This', 'sample', 'sentence', ',', 'showing', 'stop', 'words', 'filtration', '.']\n"
     ]
    }
   ],
   "source": [
    "filtered_sentence = []\n",
    "\n",
    "for w in word_tokens:\n",
    "    if w not in stop_words:\n",
    "        filtered_sentence.append(w)\n",
    "\n",
    "print(word_tokens)\n",
    "print(filtered_sentence)"
   ]
  },
  {
   "cell_type": "code",
   "execution_count": null,
   "id": "70b1da77-d09a-41bf-a9c5-30387f3d57ed",
   "metadata": {},
   "outputs": [],
   "source": []
  }
 ],
 "metadata": {
  "kernelspec": {
   "display_name": "dl_pytorch_p39",
   "language": "python",
   "name": "dl_pytorch_p39"
  },
  "language_info": {
   "codemirror_mode": {
    "name": "ipython",
    "version": 3
   },
   "file_extension": ".py",
   "mimetype": "text/x-python",
   "name": "python",
   "nbconvert_exporter": "python",
   "pygments_lexer": "ipython3",
   "version": "3.9.4"
  }
 },
 "nbformat": 4,
 "nbformat_minor": 5
}
