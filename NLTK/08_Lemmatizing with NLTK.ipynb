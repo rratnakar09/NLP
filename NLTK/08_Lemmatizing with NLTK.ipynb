{
 "cells": [
  {
   "cell_type": "markdown",
   "id": "39e8e1aa-a856-4167-a048-e15ecf720e10",
   "metadata": {},
   "source": [
    "## Lemmatizing with NLTK\n",
    "\n",
    "A very similar operation to stemming is called **lemmatizing**. The major difference between these is, as you saw earlier, stemming can often create non-existent words, whereas **lemmas are actual words**."
   ]
  },
  {
   "cell_type": "code",
   "execution_count": 1,
   "id": "8e83f66f-07e1-4c95-bda1-59d0ada940c9",
   "metadata": {},
   "outputs": [
    {
     "name": "stdout",
     "output_type": "stream",
     "text": [
      "cat\n"
     ]
    }
   ],
   "source": [
    "from nltk.stem import WordNetLemmatizer\n",
    "\n",
    "lemmatizer = WordNetLemmatizer()\n",
    "\n",
    "print(lemmatizer.lemmatize(\"cats\"))\n"
   ]
  },
  {
   "cell_type": "code",
   "execution_count": 2,
   "id": "007c60be-ced1-4523-83b4-8b2cedb7400b",
   "metadata": {},
   "outputs": [
    {
     "name": "stdout",
     "output_type": "stream",
     "text": [
      "cactus\n"
     ]
    }
   ],
   "source": [
    "print(lemmatizer.lemmatize(\"cacti\"))\n"
   ]
  },
  {
   "cell_type": "code",
   "execution_count": 3,
   "id": "35c7b385-1178-4b13-acc4-504eb470eef4",
   "metadata": {},
   "outputs": [
    {
     "name": "stdout",
     "output_type": "stream",
     "text": [
      "goose\n"
     ]
    }
   ],
   "source": [
    "print(lemmatizer.lemmatize(\"geese\"))\n"
   ]
  },
  {
   "cell_type": "code",
   "execution_count": 4,
   "id": "01ae6ecd-f3cb-4dba-a59c-a31c82972cb6",
   "metadata": {},
   "outputs": [
    {
     "name": "stdout",
     "output_type": "stream",
     "text": [
      "rock\n"
     ]
    }
   ],
   "source": [
    "print(lemmatizer.lemmatize(\"rocks\"))\n"
   ]
  },
  {
   "cell_type": "code",
   "execution_count": 5,
   "id": "a264d0e8-5648-4f44-9106-c00842546d5f",
   "metadata": {},
   "outputs": [
    {
     "name": "stdout",
     "output_type": "stream",
     "text": [
      "python\n"
     ]
    }
   ],
   "source": [
    "print(lemmatizer.lemmatize(\"python\"))\n"
   ]
  },
  {
   "cell_type": "code",
   "execution_count": 6,
   "id": "4c166e1d-7207-40c3-8c06-4996ffcce612",
   "metadata": {},
   "outputs": [
    {
     "name": "stdout",
     "output_type": "stream",
     "text": [
      "good\n"
     ]
    }
   ],
   "source": [
    "print(lemmatizer.lemmatize(\"better\", pos=\"a\"))\n"
   ]
  },
  {
   "cell_type": "code",
   "execution_count": 7,
   "id": "a31e96c8-2e73-4733-9daa-39627a7846e3",
   "metadata": {},
   "outputs": [
    {
     "name": "stdout",
     "output_type": "stream",
     "text": [
      "best\n"
     ]
    }
   ],
   "source": [
    "print(lemmatizer.lemmatize(\"best\", pos=\"a\"))\n"
   ]
  },
  {
   "cell_type": "code",
   "execution_count": 8,
   "id": "0c7f463c-8fb5-4ddf-86ec-54bd785e8bdf",
   "metadata": {},
   "outputs": [
    {
     "name": "stdout",
     "output_type": "stream",
     "text": [
      "run\n"
     ]
    }
   ],
   "source": [
    "print(lemmatizer.lemmatize(\"run\"))\n"
   ]
  },
  {
   "cell_type": "code",
   "execution_count": 9,
   "id": "20dd7b81-87a4-4e5a-a62a-118456944eda",
   "metadata": {},
   "outputs": [
    {
     "name": "stdout",
     "output_type": "stream",
     "text": [
      "run\n"
     ]
    }
   ],
   "source": [
    "print(lemmatizer.lemmatize(\"run\",'v'))"
   ]
  },
  {
   "cell_type": "code",
   "execution_count": null,
   "id": "cfbddcb5-8d46-4e8d-ae9d-ad639bf3d2c1",
   "metadata": {},
   "outputs": [],
   "source": []
  }
 ],
 "metadata": {
  "kernelspec": {
   "display_name": "dl_pytorch_p39",
   "language": "python",
   "name": "dl_pytorch_p39"
  },
  "language_info": {
   "codemirror_mode": {
    "name": "ipython",
    "version": 3
   },
   "file_extension": ".py",
   "mimetype": "text/x-python",
   "name": "python",
   "nbconvert_exporter": "python",
   "pygments_lexer": "ipython3",
   "version": "3.9.4"
  }
 },
 "nbformat": 4,
 "nbformat_minor": 5
}
